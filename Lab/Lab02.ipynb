{
  "cells": [
    {
      "cell_type": "markdown",
      "metadata": {
        "id": "vA56XED1bo_j"
      },
      "source": [
        "# Lab 2: Linear Regression"
      ]
    },
    {
      "cell_type": "markdown",
      "metadata": {
        "id": "ZT2wQ4hDbo_o"
      },
      "source": [
        "Author: Seungjae Lee (이승재)"
      ]
    },
    {
      "cell_type": "markdown",
      "metadata": {
        "id": "KMbbqhmybo_p"
      },
      "source": [
        "<div class=\"alert alert-warning\">\n",
        "    We use elemental PyTorch to implement linear regression here. However, in most actual applications, abstractions such as <code>nn.Module</code> or <code>nn.Linear</code> are used.\n",
        "</div>"
      ]
    },
    {
      "cell_type": "markdown",
      "metadata": {
        "id": "14Vq-noHbo_p"
      },
      "source": [
        "## Theoretical Overview"
      ]
    },
    {
      "cell_type": "markdown",
      "metadata": {
        "id": "yMurkFrkbo_q"
      },
      "source": [
        "$$ H(x) = Wx + b $$"
      ]
    },
    {
      "cell_type": "markdown",
      "metadata": {
        "id": "yBgM2o9Jbo_q"
      },
      "source": [
        "$$ cost(W, b) = \\frac{1}{m} \\sum^m_{i=1} \\left( H(x^{(i)}) - y^{(i)} \\right)^2 $$"
      ]
    },
    {
      "cell_type": "markdown",
      "metadata": {
        "id": "4UzHrZ30bo_r"
      },
      "source": [
        " - $H(x)$: 주어진 $x$ 값에 대해 예측을 어떻게 할 것인가\n",
        " - $cost(W, b)$: $H(x)$ 가 $y$ 를 얼마나 잘 예측했는가"
      ]
    },
    {
      "cell_type": "markdown",
      "metadata": {
        "id": "lZFDg-0Ybo_s"
      },
      "source": [
        "## Imports"
      ]
    },
    {
      "cell_type": "code",
      "execution_count": null,
      "metadata": {
        "id": "D46aumzIbo_t"
      },
      "outputs": [],
      "source": [
        "import torch\n",
        "import torch.nn as nn\n",
        "import torch.nn.functional as F\n",
        "import torch.optim as optim"
      ]
    },
    {
      "cell_type": "code",
      "execution_count": null,
      "metadata": {
        "id": "lSiI4HZ7bo_v",
        "outputId": "822555da-d3ee-451e-b8b9-f76e0671bc96"
      },
      "outputs": [
        {
          "data": {
            "text/plain": [
              "<torch._C.Generator at 0x7fa29837ef90>"
            ]
          },
          "execution_count": 2,
          "metadata": {},
          "output_type": "execute_result"
        }
      ],
      "source": [
        "# For reproducibility\n",
        "torch.manual_seed(1)"
      ]
    },
    {
      "cell_type": "markdown",
      "metadata": {
        "id": "uFynkJSjbo_w"
      },
      "source": [
        "## Data"
      ]
    },
    {
      "cell_type": "markdown",
      "metadata": {
        "id": "MfvHVIwobo_x"
      },
      "source": [
        "We will use fake data for this example."
      ]
    },
    {
      "cell_type": "code",
      "execution_count": null,
      "metadata": {
        "id": "pzv0Yrhvbo_x"
      },
      "outputs": [],
      "source": [
        "x_train = torch.FloatTensor([[1], [2], [3]])\n",
        "y_train = torch.FloatTensor([[1], [2], [3]])"
      ]
    },
    {
      "cell_type": "code",
      "execution_count": null,
      "metadata": {
        "id": "U8ynGcL1bo_y",
        "outputId": "1e3ea1fc-999c-4b96-d29b-b8f50d362481"
      },
      "outputs": [
        {
          "name": "stdout",
          "output_type": "stream",
          "text": [
            "tensor([[1.],\n",
            "        [2.],\n",
            "        [3.]])\n",
            "torch.Size([3, 1])\n"
          ]
        }
      ],
      "source": [
        "print(x_train)\n",
        "print(x_train.shape)"
      ]
    },
    {
      "cell_type": "code",
      "execution_count": null,
      "metadata": {
        "id": "Ad6iUQM8bo_y",
        "outputId": "723709a8-ce21-4847-88d6-00d323be667f"
      },
      "outputs": [
        {
          "name": "stdout",
          "output_type": "stream",
          "text": [
            "tensor([[1.],\n",
            "        [2.],\n",
            "        [3.]])\n",
            "torch.Size([3, 1])\n"
          ]
        }
      ],
      "source": [
        "print(y_train)\n",
        "print(y_train.shape)"
      ]
    },
    {
      "cell_type": "markdown",
      "metadata": {
        "id": "RAwQFoDxbo_y"
      },
      "source": [
        "기본적으로 PyTorch는 NCHW 형태이다."
      ]
    },
    {
      "cell_type": "markdown",
      "metadata": {
        "id": "EXtrfNn-bo_z"
      },
      "source": [
        "## Weight Initialization"
      ]
    },
    {
      "cell_type": "code",
      "execution_count": null,
      "metadata": {
        "id": "9hXxqSC1bo_z",
        "outputId": "3a8e552d-16f9-464f-8d6b-bdfc5d757d86"
      },
      "outputs": [
        {
          "name": "stdout",
          "output_type": "stream",
          "text": [
            "tensor([0.], requires_grad=True)\n"
          ]
        }
      ],
      "source": [
        "W = torch.zeros(1, requires_grad=True)\n",
        "print(W)"
      ]
    },
    {
      "cell_type": "code",
      "execution_count": null,
      "metadata": {
        "id": "Pqab7Q_ybo_z",
        "outputId": "4f089fed-11cd-4caf-f44e-555c8693bea5"
      },
      "outputs": [
        {
          "name": "stdout",
          "output_type": "stream",
          "text": [
            "tensor([0.], requires_grad=True)\n"
          ]
        }
      ],
      "source": [
        "b = torch.zeros(1, requires_grad=True)\n",
        "print(b)"
      ]
    },
    {
      "cell_type": "markdown",
      "metadata": {
        "id": "jov0qTw6bo_0"
      },
      "source": [
        "## Hypothesis"
      ]
    },
    {
      "cell_type": "markdown",
      "metadata": {
        "id": "LO5EwyV9bo_0"
      },
      "source": [
        "$$ H(x) = Wx + b $$"
      ]
    },
    {
      "cell_type": "code",
      "execution_count": null,
      "metadata": {
        "id": "zaVIC8gMbo_0",
        "outputId": "7976b13d-8ce0-4440-e20e-f3950e5e2387"
      },
      "outputs": [
        {
          "name": "stdout",
          "output_type": "stream",
          "text": [
            "tensor([[0.],\n",
            "        [0.],\n",
            "        [0.]], grad_fn=<AddBackward0>)\n"
          ]
        }
      ],
      "source": [
        "hypothesis = x_train * W + b\n",
        "print(hypothesis)"
      ]
    },
    {
      "cell_type": "markdown",
      "metadata": {
        "id": "4rkVRU6dbo_1"
      },
      "source": [
        "## Cost"
      ]
    },
    {
      "cell_type": "markdown",
      "metadata": {
        "id": "CvMP0V80bo_1"
      },
      "source": [
        "$$ cost(W, b) = \\frac{1}{m} \\sum^m_{i=1} \\left( H(x^{(i)}) - y^{(i)} \\right)^2 $$"
      ]
    },
    {
      "cell_type": "code",
      "execution_count": null,
      "metadata": {
        "id": "My3YL7uabo_2",
        "outputId": "49977aa0-4971-4aca-f0a1-e17ffdc4b808"
      },
      "outputs": [
        {
          "name": "stdout",
          "output_type": "stream",
          "text": [
            "tensor([[0.],\n",
            "        [0.],\n",
            "        [0.]], grad_fn=<AddBackward0>)\n"
          ]
        }
      ],
      "source": [
        "print(hypothesis)"
      ]
    },
    {
      "cell_type": "code",
      "execution_count": null,
      "metadata": {
        "id": "vugz7twQbo_2",
        "outputId": "d77599e8-fa5c-4086-9a90-a7d1ff4fe07d"
      },
      "outputs": [
        {
          "name": "stdout",
          "output_type": "stream",
          "text": [
            "tensor([[1.],\n",
            "        [2.],\n",
            "        [3.]])\n"
          ]
        }
      ],
      "source": [
        "print(y_train)"
      ]
    },
    {
      "cell_type": "code",
      "execution_count": null,
      "metadata": {
        "id": "Vd-ZQMRQbo_2",
        "outputId": "1ae2f835-0194-4a60-e92f-56df88868a5f"
      },
      "outputs": [
        {
          "name": "stdout",
          "output_type": "stream",
          "text": [
            "tensor([[-1.],\n",
            "        [-2.],\n",
            "        [-3.]], grad_fn=<SubBackward0>)\n"
          ]
        }
      ],
      "source": [
        "print(hypothesis - y_train)"
      ]
    },
    {
      "cell_type": "code",
      "execution_count": null,
      "metadata": {
        "id": "bHhNbPgLbo_3",
        "outputId": "475ea6c2-ff9f-4641-a63e-27dea2d08631"
      },
      "outputs": [
        {
          "name": "stdout",
          "output_type": "stream",
          "text": [
            "tensor([[1.],\n",
            "        [4.],\n",
            "        [9.]], grad_fn=<PowBackward0>)\n"
          ]
        }
      ],
      "source": [
        "print((hypothesis - y_train) ** 2)"
      ]
    },
    {
      "cell_type": "code",
      "execution_count": null,
      "metadata": {
        "id": "LTTY2-X4bo_3",
        "outputId": "276e9d7c-9024-49f0-d689-48071f735b9e"
      },
      "outputs": [
        {
          "name": "stdout",
          "output_type": "stream",
          "text": [
            "tensor(4.6667, grad_fn=<MeanBackward1>)\n"
          ]
        }
      ],
      "source": [
        "cost = torch.mean((hypothesis - y_train) ** 2)\n",
        "print(cost)"
      ]
    },
    {
      "cell_type": "markdown",
      "metadata": {
        "id": "ksvZ5nV4bo_3"
      },
      "source": [
        "## Gradient Descent"
      ]
    },
    {
      "cell_type": "code",
      "execution_count": null,
      "metadata": {
        "id": "INRu9LVFbo_3"
      },
      "outputs": [],
      "source": [
        "optimizer = optim.SGD([W, b], lr=0.01)"
      ]
    },
    {
      "cell_type": "code",
      "execution_count": null,
      "metadata": {
        "id": "GcG9Dutbbo_4"
      },
      "outputs": [],
      "source": [
        "optimizer.zero_grad()\n",
        "cost.backward()\n",
        "optimizer.step()"
      ]
    },
    {
      "cell_type": "code",
      "execution_count": null,
      "metadata": {
        "id": "XdSOoKmbbo_4",
        "outputId": "3e7405bd-d31d-40b8-dbd0-a1821acf5175"
      },
      "outputs": [
        {
          "name": "stdout",
          "output_type": "stream",
          "text": [
            "tensor([0.0933], requires_grad=True)\n",
            "tensor([0.0400], requires_grad=True)\n"
          ]
        }
      ],
      "source": [
        "print(W)\n",
        "print(b)"
      ]
    },
    {
      "cell_type": "markdown",
      "metadata": {
        "id": "kO3IxsIvbo_4"
      },
      "source": [
        "Let's check if the hypothesis is now better."
      ]
    },
    {
      "cell_type": "code",
      "execution_count": null,
      "metadata": {
        "id": "BTWNLSedbo_4",
        "outputId": "3b60511a-2ebc-49d9-ee08-5373d61ac073"
      },
      "outputs": [
        {
          "name": "stdout",
          "output_type": "stream",
          "text": [
            "tensor([[0.1333],\n",
            "        [0.2267],\n",
            "        [0.3200]], grad_fn=<AddBackward0>)\n"
          ]
        }
      ],
      "source": [
        "hypothesis = x_train * W + b\n",
        "print(hypothesis)"
      ]
    },
    {
      "cell_type": "code",
      "execution_count": null,
      "metadata": {
        "id": "5-lEAtw-bo_5",
        "outputId": "2893616b-5289-4d4a-b5e7-3b1e160280ab"
      },
      "outputs": [
        {
          "name": "stdout",
          "output_type": "stream",
          "text": [
            "tensor(3.6927, grad_fn=<MeanBackward1>)\n"
          ]
        }
      ],
      "source": [
        "cost = torch.mean((hypothesis - y_train) ** 2)\n",
        "print(cost)"
      ]
    },
    {
      "cell_type": "markdown",
      "metadata": {
        "id": "DtMYc2Vnbo_5"
      },
      "source": [
        "## Training with Full Code"
      ]
    },
    {
      "cell_type": "markdown",
      "metadata": {
        "id": "CmaKENp-bo_5"
      },
      "source": [
        "In reality, we will be training on the dataset for multiple epochs. This can be done simply with loops."
      ]
    },
    {
      "cell_type": "markdown",
      "source": [
        "위의 내용을 참고해 전체 코드를 완성시키세요."
      ],
      "metadata": {
        "id": "NSFaVTK2e0bS"
      }
    },
    {
      "cell_type": "code",
      "execution_count": null,
      "metadata": {
        "id": "9ktWcqPUbo_5",
        "outputId": "f4ccb701-f3e0-4497-bac4-ac741fe6a99b"
      },
      "outputs": [
        {
          "name": "stdout",
          "output_type": "stream",
          "text": [
            "Epoch    0/1000 W: 0.093, b: 0.040 Cost: 4.666667\n",
            "Epoch  100/1000 W: 0.873, b: 0.289 Cost: 0.012043\n",
            "Epoch  200/1000 W: 0.900, b: 0.227 Cost: 0.007442\n",
            "Epoch  300/1000 W: 0.921, b: 0.179 Cost: 0.004598\n",
            "Epoch  400/1000 W: 0.938, b: 0.140 Cost: 0.002842\n",
            "Epoch  500/1000 W: 0.951, b: 0.110 Cost: 0.001756\n",
            "Epoch  600/1000 W: 0.962, b: 0.087 Cost: 0.001085\n",
            "Epoch  700/1000 W: 0.970, b: 0.068 Cost: 0.000670\n",
            "Epoch  800/1000 W: 0.976, b: 0.054 Cost: 0.000414\n",
            "Epoch  900/1000 W: 0.981, b: 0.042 Cost: 0.000256\n",
            "Epoch 1000/1000 W: 0.985, b: 0.033 Cost: 0.000158\n"
          ]
        }
      ],
      "source": [
        "# 데이터\n",
        "x_train = torch.FloatTensor([[1], [2], [3]])\n",
        "y_train = torch.FloatTensor([[1], [2], [3]])\n",
        "# 모델 초기화\n",
        "W = #이 부분을 채워넣으세요.# #가중치 W를 0으로 초기화하고 학습을 통해 값이 변경될 수 있도록 하세요.\n",
        "b = #이 부분을 채워넣으세요.# #편향 b를 0으로 초기화하고 학습을 통해 값이 변경될 수 있도록 하세요.\n",
        "# optimizer 설정\n",
        "optimizer = #이 부분을 채워넣으세요.# #SGD optimizer를 사용하고 learning rate는 0.01로 적용하세요.\n",
        "\n",
        "nb_epochs = 1000\n",
        "for epoch in range(nb_epochs + 1):\n",
        "    \n",
        "    # H(x) 계산\n",
        "    hypothesis = #이 부분을 채워넣으세요.# H(x)=Wx+b를 이용하세요.\n",
        "    \n",
        "    # cost 계산\n",
        "    cost = #이 부분을 채워넣으세요.# #파이토치 코드 상으로 선형 회귀의 비용 함수에 해당되는 평균 제곱 오차를 선언하세요.\n",
        "\n",
        "    # cost로 H(x) 개선\n",
        "    #이 부분을 채워넣으세요.#  # gradient를 0으로 초기화\n",
        "    #이 부분을 채워넣으세요.#  # 비용 함수를 미분하여 gradient 계산\n",
        "    #이 부분을 채워넣으세요.#  # W와 b를 업데이트\n",
        "\n",
        "    # 100번마다 로그 출력\n",
        "    if epoch % 100 == 0:\n",
        "        print('Epoch {:4d}/{} W: {:.3f}, b: {:.3f} Cost: {:.6f}'.format(\n",
        "            epoch, nb_epochs, W.item(), b.item(), cost.item()\n",
        "        ))"
      ]
    },
    {
      "cell_type": "markdown",
      "metadata": {
        "id": "RqyPOo3ebo_6"
      },
      "source": [
        "## High-level Implementation with `nn.Module`"
      ]
    },
    {
      "cell_type": "markdown",
      "metadata": {
        "id": "F4DTRADVbo_6"
      },
      "source": [
        "Remember that we had this fake data."
      ]
    },
    {
      "cell_type": "code",
      "execution_count": null,
      "metadata": {
        "id": "TSJSSOGEbo_6"
      },
      "outputs": [],
      "source": [
        "x_train = torch.FloatTensor([[1], [2], [3]])\n",
        "y_train = torch.FloatTensor([[1], [2], [3]])"
      ]
    },
    {
      "cell_type": "markdown",
      "metadata": {
        "id": "pybEutMabo_6"
      },
      "source": [
        "이제 linear regression 모델을 만들면 되는데, 기본적으로 PyTorch의 모든 모델은 제공되는 `nn.Module`을 inherit 해서 만들게 됩니다."
      ]
    },
    {
      "cell_type": "code",
      "execution_count": null,
      "metadata": {
        "id": "iTdi6p-Ibo_6"
      },
      "outputs": [],
      "source": [
        "class LinearRegressionModel(nn.Module):\n",
        "    def __init__(self):\n",
        "        super().__init__()\n",
        "        self.linear = nn.Linear(1, 1)\n",
        "\n",
        "    def forward(self, x):\n",
        "        return self.linear(x)"
      ]
    },
    {
      "cell_type": "markdown",
      "metadata": {
        "id": "doxDmbD0bo_7"
      },
      "source": [
        "모델의 `__init__`에서는 사용할 레이어들을 정의하게 됩니다. 여기서 우리는 linear regression 모델을 만들기 때문에, `nn.Linear` 를 이용할 것입니다. 그리고 `forward`에서는 이 모델이 어떻게 입력값에서 출력값을 계산하는지 알려줍니다."
      ]
    },
    {
      "cell_type": "code",
      "execution_count": null,
      "metadata": {
        "id": "boc1aAilbo_7"
      },
      "outputs": [],
      "source": [
        "model = LinearRegressionModel()"
      ]
    },
    {
      "cell_type": "markdown",
      "metadata": {
        "id": "hbCQsw3Tbo_7"
      },
      "source": [
        "## Hypothesis"
      ]
    },
    {
      "cell_type": "markdown",
      "metadata": {
        "id": "wwjj-87dbo_7"
      },
      "source": [
        "이제 모델을 생성해서 예측값 $H(x)$를 구해보자"
      ]
    },
    {
      "cell_type": "code",
      "execution_count": null,
      "metadata": {
        "id": "JFRBYKFBbo_8"
      },
      "outputs": [],
      "source": [
        "hypothesis = model(x_train)"
      ]
    },
    {
      "cell_type": "code",
      "execution_count": null,
      "metadata": {
        "id": "Otf9M0x4bo_8",
        "outputId": "7aba7189-d98e-4a96-883f-31a40cc898cf"
      },
      "outputs": [
        {
          "name": "stdout",
          "output_type": "stream",
          "text": [
            "tensor([[0.0739],\n",
            "        [0.5891],\n",
            "        [1.1044]], grad_fn=<ThAddmmBackward>)\n"
          ]
        }
      ],
      "source": [
        "print(hypothesis)"
      ]
    },
    {
      "cell_type": "markdown",
      "metadata": {
        "id": "Kh-QLdXvbo_8"
      },
      "source": [
        "## Cost"
      ]
    },
    {
      "cell_type": "markdown",
      "metadata": {
        "id": "V8bGZMVNbo_8"
      },
      "source": [
        "이제 mean squared error (MSE) 로 cost를 구해보자. MSE 역시 PyTorch에서 기본적으로 제공한다."
      ]
    },
    {
      "cell_type": "code",
      "execution_count": null,
      "metadata": {
        "id": "N2QBNPTXbo_8",
        "outputId": "4c7df806-50ff-4662-c618-9e58a44c4fe1"
      },
      "outputs": [
        {
          "name": "stdout",
          "output_type": "stream",
          "text": [
            "tensor([[0.0739],\n",
            "        [0.5891],\n",
            "        [1.1044]], grad_fn=<ThAddmmBackward>)\n",
            "tensor([[1.],\n",
            "        [2.],\n",
            "        [3.]])\n"
          ]
        }
      ],
      "source": [
        "print(hypothesis)\n",
        "print(y_train)"
      ]
    },
    {
      "cell_type": "code",
      "execution_count": null,
      "metadata": {
        "id": "p_g7skCSbo_9"
      },
      "outputs": [],
      "source": [
        "cost = F.mse_loss(hypothesis, y_train)"
      ]
    },
    {
      "cell_type": "code",
      "execution_count": null,
      "metadata": {
        "id": "IrK3rNjsbo_9",
        "outputId": "060e03ec-d5b2-4f71-eabd-432c99d9073c"
      },
      "outputs": [
        {
          "name": "stdout",
          "output_type": "stream",
          "text": [
            "tensor(2.1471, grad_fn=<MseLossBackward>)\n"
          ]
        }
      ],
      "source": [
        "print(cost)"
      ]
    },
    {
      "cell_type": "markdown",
      "metadata": {
        "id": "cGuFHQ--bo_9"
      },
      "source": [
        "## Gradient Descent"
      ]
    },
    {
      "cell_type": "markdown",
      "metadata": {
        "id": "HgUotAGKbo_9"
      },
      "source": [
        "마지막 주어진 cost를 이용해 $H(x)$ 의 $W, b$ 를 바꾸어서 cost를 줄여봅니다. 이때 PyTorch의 `torch.optim` 에 있는 `optimizer` 들 중 하나를 사용할 수 있습니다."
      ]
    },
    {
      "cell_type": "code",
      "execution_count": null,
      "metadata": {
        "id": "dGBdBd7Dbo_9"
      },
      "outputs": [],
      "source": [
        "optimizer = optim.SGD(model.parameters(), lr=0.01)"
      ]
    },
    {
      "cell_type": "code",
      "execution_count": null,
      "metadata": {
        "id": "tSbbTmgwbo_-"
      },
      "outputs": [],
      "source": [
        "optimizer.zero_grad()\n",
        "cost.backward()\n",
        "optimizer.step()"
      ]
    },
    {
      "cell_type": "markdown",
      "metadata": {
        "id": "2qxD9bhwbo_-"
      },
      "source": [
        "## Training with Full Code"
      ]
    },
    {
      "cell_type": "markdown",
      "metadata": {
        "id": "sH-oGPZxbo_-"
      },
      "source": [
        "이제 Linear Regression 코드를 이해했으니, 실제로 코드를 돌려 피팅시켜보겠습니다."
      ]
    },
    {
      "cell_type": "markdown",
      "source": [
        "위의 내용을 참고해 전체 코드를 완성시키세요."
      ],
      "metadata": {
        "id": "fuiFUTkVghLB"
      }
    },
    {
      "cell_type": "code",
      "execution_count": null,
      "metadata": {
        "id": "y1d2nCyRbo_-",
        "outputId": "f69afcf3-9eaf-411e-d421-2959b5c9bcc1"
      },
      "outputs": [
        {
          "name": "stdout",
          "output_type": "stream",
          "text": [
            "Epoch    0/1000 W: -0.101, b: 0.508 Cost: 4.630286\n",
            "Epoch  100/1000 W: 0.713, b: 0.653 Cost: 0.061555\n",
            "Epoch  200/1000 W: 0.774, b: 0.514 Cost: 0.038037\n",
            "Epoch  300/1000 W: 0.822, b: 0.404 Cost: 0.023505\n",
            "Epoch  400/1000 W: 0.860, b: 0.317 Cost: 0.014525\n",
            "Epoch  500/1000 W: 0.890, b: 0.250 Cost: 0.008975\n",
            "Epoch  600/1000 W: 0.914, b: 0.196 Cost: 0.005546\n",
            "Epoch  700/1000 W: 0.932, b: 0.154 Cost: 0.003427\n",
            "Epoch  800/1000 W: 0.947, b: 0.121 Cost: 0.002118\n",
            "Epoch  900/1000 W: 0.958, b: 0.095 Cost: 0.001309\n",
            "Epoch 1000/1000 W: 0.967, b: 0.075 Cost: 0.000809\n"
          ]
        }
      ],
      "source": [
        "# 데이터\n",
        "x_train = torch.FloatTensor([[1], [2], [3]])\n",
        "y_train = torch.FloatTensor([[1], [2], [3]])\n",
        "# 모델 초기화\n",
        "model = #이 부분을 채워넣으세요.# #LinearRegressionModel()로 모델을 초기화하세요.\n",
        "# optimizer 설정\n",
        "optimizer = #이 부분을 채워넣으세요.# #SGD optimizer를 사용하고 learning rate는 0.01로 적용하세요.\n",
        "\n",
        "nb_epochs = 1000\n",
        "for epoch in range(nb_epochs + 1):\n",
        "    \n",
        "    # H(x) 계산\n",
        "    prediction = #이 부분을 채워넣으세요. #모델을 생성해서 예측값을 구해보세요.\n",
        "    \n",
        "    # cost 계산\n",
        "    cost = #이 부분을 채워넣으세요.# #PyTorch에서 기본적으로 제공하는 mse 함수를 사용하세요.\n",
        "    \n",
        "    # cost로 H(x) 개선\n",
        "    #이 부분을 채워넣으세요.#  # gradient를 0으로 초기화\n",
        "    #이 부분을 채워넣으세요.#  # 비용 함수를 미분하여 gradient 계산\n",
        "    #이 부분을 채워넣으세요.#  # W와 b를 업데이트\n",
        "    \n",
        "    # 100번마다 로그 출력\n",
        "    if epoch % 100 == 0:\n",
        "        params = list(model.parameters())\n",
        "        W = params[0].item()\n",
        "        b = params[1].item()\n",
        "        print('Epoch {:4d}/{} W: {:.3f}, b: {:.3f} Cost: {:.6f}'.format(\n",
        "            epoch, nb_epochs, W, b, cost.item()\n",
        "        ))"
      ]
    },
    {
      "cell_type": "markdown",
      "metadata": {
        "id": "_Ww7dBW5bo_-"
      },
      "source": [
        "점점 $H(x)$ 의 $W$ 와 $b$ 를 조정해서 cost가 줄어드는 것을 볼 수 있습니다."
      ]
    }
  ],
  "metadata": {
    "kernelspec": {
      "display_name": "Python 3",
      "language": "python",
      "name": "python3"
    },
    "language_info": {
      "codemirror_mode": {
        "name": "ipython",
        "version": 3
      },
      "file_extension": ".py",
      "mimetype": "text/x-python",
      "name": "python",
      "nbconvert_exporter": "python",
      "pygments_lexer": "ipython3",
      "version": "3.7.0"
    },
    "colab": {
      "name": "Lab02.ipynb",
      "provenance": [],
      "collapsed_sections": []
    }
  },
  "nbformat": 4,
  "nbformat_minor": 0
}