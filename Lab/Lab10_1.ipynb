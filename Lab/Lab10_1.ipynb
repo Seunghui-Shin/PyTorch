{
  "nbformat": 4,
  "nbformat_minor": 0,
  "metadata": {
    "colab": {
      "name": "Lab10_1.ipynb",
      "provenance": [],
      "collapsed_sections": []
    },
    "kernelspec": {
      "name": "python3",
      "display_name": "Python 3"
    },
    "language_info": {
      "name": "python"
    }
  },
  "cells": [
    {
      "cell_type": "markdown",
      "source": [
        "우리가 만들 모델의 아키텍처를 이해해봅시다. 합성곱 신경망은 출처에 따라서 합성곱 층을 부르는 단위가 조금 다릅니다.\n",
        "\n",
        "이번 챕터에서는 편의를 위해 맥스 풀링까지 포함해서 합성곱(nn.Conv2d) + 활성화 함수(nn.ReLU) + 맥스풀링(nn.MaxPoold2d)을 하나의 합성곱 층으로 보겠습니다."
      ],
      "metadata": {
        "id": "WNKqFilXQlFX"
      }
    },
    {
      "cell_type": "markdown",
      "source": [
        "모델의 아키텍쳐는 총 3개의 층으로 이루어집니다.\n",
        "\n",
        "# 1번 레이어 : 합성곱층(Convolutional layer)\n",
        "\n",
        "합성곱(in_channel = 1, out_channel = 32, kernel_size=3, stride=1, padding=1) + 활성화 함수 ReLU\n",
        "\n",
        "맥스풀링(kernel_size=2, stride=2))\n",
        "\n",
        "# 2번 레이어 : 합성곱층(Convolutional layer)\n",
        "\n",
        "합성곱(in_channel = 32, out_channel = 64, kernel_size=3, stride=1, padding=1) + 활성화 함수 ReLU\n",
        "\n",
        "맥스풀링(kernel_size=2, stride=2))\n",
        "\n",
        "# 3번 레이어 : 전결합층(Fully-Connected layer)\n",
        "\n",
        "특성맵을 펼친다. # batch_size × 7 × 7 × 64 → batch_size × 3136\n",
        "\n",
        "전결합층(뉴런 10개) + 활성화 함수 Softmax\n",
        "\n",
        "이를 직접 구현해보며 이해해봅시다."
      ],
      "metadata": {
        "id": "qAq8qK4ZRJcr"
      }
    },
    {
      "cell_type": "markdown",
      "source": [
        "1. 필요한 도구 임포트와 입력의 정의"
      ],
      "metadata": {
        "id": "B6rgowyTRgQn"
      }
    },
    {
      "cell_type": "code",
      "source": [
        "import torch\n",
        "import torch.nn as nn"
      ],
      "metadata": {
        "id": "GKf5IAgJQkx0"
      },
      "execution_count": null,
      "outputs": []
    },
    {
      "cell_type": "markdown",
      "source": [
        "임의의 텐서를 만듭니다. 텐서의 크기는 1 × 1 × 28 × 28입니다."
      ],
      "metadata": {
        "id": "G_Y3u9UsRnkk"
      }
    },
    {
      "cell_type": "code",
      "source": [
        "# 배치 크기 × 채널 × 높이(height) × 너비(widht)의 크기의 텐서를 선언\n",
        "inputs = torch.Tensor(#이 부분을 채워넣으세요)\n",
        "print(inputs.size())"
      ],
      "metadata": {
        "colab": {
          "base_uri": "https://localhost:8080/"
        },
        "id": "2TyMFW1jRk8h",
        "outputId": "29e7fb1a-2691-4f0a-8d6a-ddfbf62be0b0"
      },
      "execution_count": null,
      "outputs": [
        {
          "output_type": "stream",
          "name": "stdout",
          "text": [
            "torch.Size([1, 1, 28, 28])\n"
          ]
        }
      ]
    },
    {
      "cell_type": "markdown",
      "source": [
        "2. 합성곱층과 풀링 선언하기\n",
        "\n",
        "이제 첫번째 합성곱 층을 구현해봅시다. 1채널 짜리를 입력받아서 32채널을 뽑아내는데 커널 사이즈는 3이고 패딩은 1입니다."
      ],
      "metadata": {
        "id": "6dproqr-R7O8"
      }
    },
    {
      "cell_type": "code",
      "source": [
        "conv1 = nn.Conv2d(1, 32, 3, padding=1)\n",
        "print(conv1)"
      ],
      "metadata": {
        "colab": {
          "base_uri": "https://localhost:8080/"
        },
        "id": "DKpRp-tmR_Br",
        "outputId": "626bab3d-0541-4c8b-fe03-79ffa3f64866"
      },
      "execution_count": null,
      "outputs": [
        {
          "output_type": "stream",
          "name": "stdout",
          "text": [
            "Conv2d(1, 32, kernel_size=(3, 3), stride=(1, 1), padding=(1, 1))\n"
          ]
        }
      ]
    },
    {
      "cell_type": "markdown",
      "source": [
        "이제 두번째 합성곱 층을 구현해봅시다. 32채널 짜리를 입력받아서 64채널을 뽑아내는데 커널 사이즈는 3이고 패딩은 1입니다."
      ],
      "metadata": {
        "id": "3FbP-PpSSL6b"
      }
    },
    {
      "cell_type": "code",
      "source": [
        "conv2 = nn.Conv2d(#이 부분을 채워넣으세요, #이 부분을 채워넣으세요, #이 부분을 채워넣으세요, #이 부분을 채워넣으세요)\n",
        "print(conv2)"
      ],
      "metadata": {
        "colab": {
          "base_uri": "https://localhost:8080/"
        },
        "id": "IlkL18jYSMvE",
        "outputId": "d0ce4b6f-7ab1-4bd9-b76f-e0124d4d3f7f"
      },
      "execution_count": null,
      "outputs": [
        {
          "output_type": "stream",
          "name": "stdout",
          "text": [
            "Conv2d(32, 64, kernel_size=(3, 3), stride=(1, 1), padding=(1, 1))\n"
          ]
        }
      ]
    },
    {
      "cell_type": "markdown",
      "source": [
        "이제 맥스풀링을 구현해봅시다. 정수 하나를 인자로 넣으면 커널 사이즈와 스트라이드가 둘 다 해당값으로 지정됩니다."
      ],
      "metadata": {
        "id": "7q2mPVGASUb0"
      }
    },
    {
      "cell_type": "code",
      "source": [
        "pool = nn.MaxPool2d(2)\n",
        "print(pool)"
      ],
      "metadata": {
        "colab": {
          "base_uri": "https://localhost:8080/"
        },
        "id": "jUuWkIZ1SR00",
        "outputId": "ea2c829e-233d-4d31-d18d-1f184564b426"
      },
      "execution_count": null,
      "outputs": [
        {
          "output_type": "stream",
          "name": "stdout",
          "text": [
            "MaxPool2d(kernel_size=2, stride=2, padding=0, dilation=1, ceil_mode=False)\n"
          ]
        }
      ]
    },
    {
      "cell_type": "markdown",
      "source": [
        "dialation은 커널 사이 간격 사이즈를 조정합니다.\n",
        "\n",
        "ceil_mode는 True일 경우 output size에 대하여 바닥 함수 대신 천장 함수를 사용합니다."
      ],
      "metadata": {
        "id": "QqFiVGoKU-Lg"
      }
    },
    {
      "cell_type": "markdown",
      "source": [
        "3. 구현체를 연결하여 모델 만들기"
      ],
      "metadata": {
        "id": "t1LrsKjrSXzB"
      }
    },
    {
      "cell_type": "markdown",
      "source": [
        "지금까지는 선언만한 것이고 아직 이들을 연결시키지는 않았습니다. 이들을 연결시켜서 모델을 완성시켜보겠습니다. 우선 입력을 첫번째 합성곱층을 통과시키고 합성곱층을 통과시킨 후의 텐서의 크기를 보겠습니다."
      ],
      "metadata": {
        "id": "uVMnTKGPSX2b"
      }
    },
    {
      "cell_type": "code",
      "source": [
        "out = conv1(inputs)\n",
        "print(out.shape)"
      ],
      "metadata": {
        "colab": {
          "base_uri": "https://localhost:8080/"
        },
        "id": "hss1LkniSckw",
        "outputId": "f1cbc599-3aae-4c04-efa1-1ab18b27b95a"
      },
      "execution_count": null,
      "outputs": [
        {
          "output_type": "stream",
          "name": "stdout",
          "text": [
            "torch.Size([1, 32, 28, 28])\n"
          ]
        }
      ]
    },
    {
      "cell_type": "markdown",
      "source": [
        "32채널의 28너비 28높이의 텐서가 되었습니다. 32가 나온 이유는 conv1의 out_channel로 32를 지정해주었기 때문입니다. 또한, 28너비 28높이가 된 이유는 패딩을 1폭으로 하고 3 × 3 커널을 사용하면 크기가 보존되기 때문입니다. 이제 이를 맥스풀링을 통과시키고 맥스풀링을 통과한 후의 텐서의 크기를 보겠습니다."
      ],
      "metadata": {
        "id": "RRvX9GUeSX6O"
      }
    },
    {
      "cell_type": "code",
      "source": [
        "out = pool(out)\n",
        "print(out.shape)"
      ],
      "metadata": {
        "colab": {
          "base_uri": "https://localhost:8080/"
        },
        "id": "ZT_nA65MSk-Q",
        "outputId": "f3845888-69b3-49df-c415-afb2a7f9bfad"
      },
      "execution_count": null,
      "outputs": [
        {
          "output_type": "stream",
          "name": "stdout",
          "text": [
            "torch.Size([1, 32, 14, 14])\n"
          ]
        }
      ]
    },
    {
      "cell_type": "markdown",
      "source": [
        "32채널의 14너비 14높이의 텐서가 되었습니다. 이제 이를 다시 두번째 합성곱층에 통과시키고 통과한 후의 텐서의 크기를 보겠습니다."
      ],
      "metadata": {
        "id": "6PJHFYzQSsnC"
      }
    },
    {
      "cell_type": "code",
      "source": [
        "#이 부분을 채워넣으세요\n",
        "print(out.shape)"
      ],
      "metadata": {
        "colab": {
          "base_uri": "https://localhost:8080/"
        },
        "id": "lHFLHyf9StwX",
        "outputId": "af77bdcf-7d08-4106-f230-da2f241cf75a"
      },
      "execution_count": null,
      "outputs": [
        {
          "output_type": "stream",
          "name": "stdout",
          "text": [
            "torch.Size([1, 64, 14, 14])\n"
          ]
        }
      ]
    },
    {
      "cell_type": "markdown",
      "source": [
        "64채널의 14너비 14높이의 텐서가 되었습니다. 64가 나온 이유는 conv2의 out_channel로 64를 지정해주었기 때문입니다. 또한, 14너비 14높이가 된 이유는 패딩을 1폭으로 하고 3 × 3 커널을 사용하면 크기가 보존되기 때문입니다. 이제 이를 맥스풀링을 통과시키고 맥스풀링을 통과한 후의 텐서의 크기를 보겠습니다. 이제 이를 맥스풀링을 통과시키고 맥스풀링을 통과한 후의 텐서의 크기를 보겠습니다."
      ],
      "metadata": {
        "id": "rZeKdkrESvV-"
      }
    },
    {
      "cell_type": "code",
      "source": [
        "#이 부분을 채워넣으세요\n",
        "print(out.shape)"
      ],
      "metadata": {
        "colab": {
          "base_uri": "https://localhost:8080/"
        },
        "id": "YVjuvwDYSyRa",
        "outputId": "2b44c8e1-6327-415a-b1ee-c4f2c132f54c"
      },
      "execution_count": null,
      "outputs": [
        {
          "output_type": "stream",
          "name": "stdout",
          "text": [
            "torch.Size([1, 64, 7, 7])\n"
          ]
        }
      ]
    },
    {
      "cell_type": "markdown",
      "source": [
        "이제 이 텐서를 펼치는 작업을 할 겁니다. 그런데 펼치기에 앞서 텐서의 n번째 차원을 접근하게 해주는 .size(n)에 대해서 배워보겠습니다. 현재 out의 크기는 1 × 64 × 7 × 7입니다. out의 각 첫번째, 두번째, 세번째, 네번째 차원이 몇인지 출력해보겠습니다."
      ],
      "metadata": {
        "id": "mzdzjHoeSzdO"
      }
    },
    {
      "cell_type": "code",
      "source": [
        "print(out.size(0))\n",
        "print(out.size(1))\n",
        "print(out.size(2))\n",
        "print(out.size(3))"
      ],
      "metadata": {
        "colab": {
          "base_uri": "https://localhost:8080/"
        },
        "id": "wjjiO-AsTI1s",
        "outputId": "f2538a50-8bdc-4cac-a02e-e54c23e56884"
      },
      "execution_count": null,
      "outputs": [
        {
          "output_type": "stream",
          "name": "stdout",
          "text": [
            "1\n",
            "64\n",
            "7\n",
            "7\n"
          ]
        }
      ]
    },
    {
      "cell_type": "markdown",
      "source": [
        "이제 이를 가지고 .view()를 사용하여 텐서를 펼치는 작업을 해보겠습니다."
      ],
      "metadata": {
        "id": "2tdxeWS4TarA"
      }
    },
    {
      "cell_type": "code",
      "source": [
        "# 첫번째 차원인 배치 차원은 그대로 두고 나머지는 펼쳐라\n",
        "out = out.view(#이 부분을 채워넣으세요) \n",
        "print(out.shape)"
      ],
      "metadata": {
        "colab": {
          "base_uri": "https://localhost:8080/"
        },
        "id": "qY5YApYNTcW7",
        "outputId": "b10c893e-841d-4139-9ecc-0f611659bda5"
      },
      "execution_count": null,
      "outputs": [
        {
          "output_type": "stream",
          "name": "stdout",
          "text": [
            "torch.Size([1, 3136])\n"
          ]
        }
      ]
    },
    {
      "cell_type": "markdown",
      "source": [
        "배치 차원을 제외하고 모두 하나의 차원으로 통합된 것을 볼 수 있습니다. 이제 이에 대해서 전결합층(Fully-Connteced layer)를 통과시켜보겠습니다. 출력층으로 10개의 뉴런을 배치하여 10개 차원의 텐서로 변환합니다."
      ],
      "metadata": {
        "id": "RScmc4iYTaxy"
      }
    },
    {
      "cell_type": "code",
      "source": [
        "fc = nn.Linear(#이 부분을 채워넣으세요, #이 부분을 채워넣으세요) # input_dim = 3,136, output_dim = 10\n",
        "out = fc(out)\n",
        "print(out.shape)"
      ],
      "metadata": {
        "colab": {
          "base_uri": "https://localhost:8080/"
        },
        "id": "ELZuxzH_Tlqs",
        "outputId": "33e2dfce-ef46-4dcc-db6c-dd579af85c21"
      },
      "execution_count": null,
      "outputs": [
        {
          "output_type": "stream",
          "name": "stdout",
          "text": [
            "torch.Size([1, 10])\n"
          ]
        }
      ]
    }
  ]
}