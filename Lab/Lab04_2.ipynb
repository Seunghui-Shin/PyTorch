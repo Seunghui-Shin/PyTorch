{
  "cells": [
    {
      "cell_type": "markdown",
      "metadata": {
        "id": "i7qY6LnzVfL6"
      },
      "source": [
        "# Lab 4-2: Load Data"
      ]
    },
    {
      "cell_type": "markdown",
      "metadata": {
        "id": "iUffg8EbVfMA"
      },
      "source": [
        "Author: Seungjae Lee (이승재)"
      ]
    },
    {
      "cell_type": "markdown",
      "metadata": {
        "id": "0lD0zwjRVfMB"
      },
      "source": [
        "<div class=\"alert alert-warning\">\n",
        "    We use elemental PyTorch to implement linear regression here. However, in most actual applications, abstractions such as <code>nn.Module</code> or <code>nn.Linear</code> are used.\n",
        "</div>"
      ]
    },
    {
      "cell_type": "markdown",
      "metadata": {
        "id": "RG4XJhGBVfMC"
      },
      "source": [
        "## Slicing 1D Array"
      ]
    },
    {
      "cell_type": "code",
      "execution_count": null,
      "metadata": {
        "id": "P_tPxBFaVfMD"
      },
      "outputs": [],
      "source": [
        "nums = [0, 1, 2, 3, 4]"
      ]
    },
    {
      "cell_type": "code",
      "execution_count": null,
      "metadata": {
        "id": "_-M5Bl_bVfMF",
        "outputId": "4fb5ad94-a936-4bf9-d67c-517bf93a9a7c"
      },
      "outputs": [
        {
          "name": "stdout",
          "output_type": "stream",
          "text": [
            "[0, 1, 2, 3, 4]\n"
          ]
        }
      ],
      "source": [
        "print(nums)"
      ]
    },
    {
      "cell_type": "markdown",
      "metadata": {
        "id": "Hs5wCmYtVfMH"
      },
      "source": [
        "index 2에서 4 전까지 가져와라. (앞 포함, 뒤 비포함)"
      ]
    },
    {
      "cell_type": "code",
      "execution_count": null,
      "metadata": {
        "id": "_wWuAv6tVfMI",
        "outputId": "61e5c893-8914-4d25-a38e-b1e50da4dbd6"
      },
      "outputs": [
        {
          "name": "stdout",
          "output_type": "stream",
          "text": [
            "[2, 3]\n"
          ]
        }
      ],
      "source": [
        "print(nums[2:4])"
      ]
    },
    {
      "cell_type": "markdown",
      "metadata": {
        "id": "IzK298_aVfMI"
      },
      "source": [
        "index 2부터 다 가져와라."
      ]
    },
    {
      "cell_type": "code",
      "execution_count": null,
      "metadata": {
        "id": "4sfzraEDVfMJ",
        "outputId": "754de30b-da1c-4f61-c1c3-5e410e0fb491"
      },
      "outputs": [
        {
          "name": "stdout",
          "output_type": "stream",
          "text": [
            "[2, 3, 4]\n"
          ]
        }
      ],
      "source": [
        "print(nums[2:])"
      ]
    },
    {
      "cell_type": "markdown",
      "metadata": {
        "id": "_9mWCLUoVfMK"
      },
      "source": [
        "index 2 전까지 가져와라. (역시 뒤는 비포함)"
      ]
    },
    {
      "cell_type": "code",
      "execution_count": null,
      "metadata": {
        "id": "IF13a0aSVfMK",
        "outputId": "26fafb6a-83cc-4d42-9824-da6fbb0e8d28"
      },
      "outputs": [
        {
          "name": "stdout",
          "output_type": "stream",
          "text": [
            "[0, 1]\n"
          ]
        }
      ],
      "source": [
        "print(nums[:2])"
      ]
    },
    {
      "cell_type": "markdown",
      "metadata": {
        "id": "jTSI1ySYVfML"
      },
      "source": [
        "전부 가져와라"
      ]
    },
    {
      "cell_type": "code",
      "execution_count": null,
      "metadata": {
        "id": "QCKALX6XVfML",
        "outputId": "3804ccfa-130b-4ad6-d380-d89484fdca35"
      },
      "outputs": [
        {
          "name": "stdout",
          "output_type": "stream",
          "text": [
            "[0, 1, 2, 3, 4]\n"
          ]
        }
      ],
      "source": [
        "print(nums[:])"
      ]
    },
    {
      "cell_type": "markdown",
      "metadata": {
        "id": "6lQGCMP9VfMM"
      },
      "source": [
        "마지막 index 전까지 가져와라. (뒤는 비포함!)"
      ]
    },
    {
      "cell_type": "code",
      "execution_count": null,
      "metadata": {
        "id": "jzcxzIWAVfMM",
        "outputId": "d0802d7e-b22d-457d-b3cc-e573e61b18b9"
      },
      "outputs": [
        {
          "name": "stdout",
          "output_type": "stream",
          "text": [
            "[0, 1, 2, 3]\n"
          ]
        }
      ],
      "source": [
        "print(nums[:-1])"
      ]
    },
    {
      "cell_type": "markdown",
      "metadata": {
        "id": "vDYDUtBrVfMM"
      },
      "source": [
        "assign 도 가능!"
      ]
    },
    {
      "cell_type": "code",
      "execution_count": null,
      "metadata": {
        "id": "hyTEx5LLVfMM"
      },
      "outputs": [],
      "source": [
        "nums[2:4] = [8, 9]"
      ]
    },
    {
      "cell_type": "code",
      "execution_count": null,
      "metadata": {
        "id": "vNj7zb-5VfMN",
        "outputId": "44188e3c-bfab-4cc6-e4b3-7424d256257e"
      },
      "outputs": [
        {
          "name": "stdout",
          "output_type": "stream",
          "text": [
            "[0, 1, 8, 9, 4]\n"
          ]
        }
      ],
      "source": [
        "print(nums)"
      ]
    },
    {
      "cell_type": "markdown",
      "metadata": {
        "id": "YWJpWa1RVfMN"
      },
      "source": [
        "## Slicing 2D Array"
      ]
    },
    {
      "cell_type": "code",
      "execution_count": null,
      "metadata": {
        "id": "naC_-g7GVfMN"
      },
      "outputs": [],
      "source": [
        "import numpy as np"
      ]
    },
    {
      "cell_type": "code",
      "execution_count": null,
      "metadata": {
        "id": "ZlH48dGTVfMO"
      },
      "outputs": [],
      "source": [
        "b = np.array([[1, 2, 3, 4], [5, 6, 7, 8], [9, 10, 11, 12]])"
      ]
    },
    {
      "cell_type": "code",
      "execution_count": null,
      "metadata": {
        "id": "IQw3JHKlVfMO",
        "outputId": "dad06c3f-8a61-4c64-cc46-2a43b8112bb7"
      },
      "outputs": [
        {
          "name": "stdout",
          "output_type": "stream",
          "text": [
            "[[ 1  2  3  4]\n",
            " [ 5  6  7  8]\n",
            " [ 9 10 11 12]]\n"
          ]
        }
      ],
      "source": [
        "print(b)"
      ]
    },
    {
      "cell_type": "code",
      "execution_count": null,
      "metadata": {
        "id": "SD0nJUflVfMO",
        "outputId": "e55911fe-31b0-4234-b328-57aabdfa6db3"
      },
      "outputs": [
        {
          "data": {
            "text/plain": [
              "array([ 2,  6, 10])"
            ]
          },
          "execution_count": 14,
          "metadata": {},
          "output_type": "execute_result"
        }
      ],
      "source": [
        "b[:, 1]"
      ]
    },
    {
      "cell_type": "code",
      "execution_count": null,
      "metadata": {
        "id": "OhiZWiLSVfMP",
        "outputId": "65778a3d-c39d-489f-eee4-97a6b24a1501"
      },
      "outputs": [
        {
          "data": {
            "text/plain": [
              "array([ 9, 10, 11, 12])"
            ]
          },
          "execution_count": 15,
          "metadata": {},
          "output_type": "execute_result"
        }
      ],
      "source": [
        "b[-1]"
      ]
    },
    {
      "cell_type": "code",
      "execution_count": null,
      "metadata": {
        "id": "j2-VeUz3VfMP",
        "outputId": "3f30e1e4-a193-43ab-ee1a-36e9a05c5243"
      },
      "outputs": [
        {
          "data": {
            "text/plain": [
              "array([ 9, 10, 11, 12])"
            ]
          },
          "execution_count": 16,
          "metadata": {},
          "output_type": "execute_result"
        }
      ],
      "source": [
        "b[-1, :]"
      ]
    },
    {
      "cell_type": "code",
      "execution_count": null,
      "metadata": {
        "id": "7l9EKXQWVfMP",
        "outputId": "784c688c-c3a2-4442-c6cf-86b2f9e27c34"
      },
      "outputs": [
        {
          "data": {
            "text/plain": [
              "array([ 9, 10, 11, 12])"
            ]
          },
          "execution_count": 17,
          "metadata": {},
          "output_type": "execute_result"
        }
      ],
      "source": [
        "b[-1, ...]"
      ]
    },
    {
      "cell_type": "code",
      "execution_count": null,
      "metadata": {
        "id": "4Ps186kLVfMQ",
        "outputId": "ce0af001-a391-419d-87b7-d1d45819883a"
      },
      "outputs": [
        {
          "data": {
            "text/plain": [
              "array([[1, 2, 3, 4],\n",
              "       [5, 6, 7, 8]])"
            ]
          },
          "execution_count": 18,
          "metadata": {},
          "output_type": "execute_result"
        }
      ],
      "source": [
        "b[0:2, :]"
      ]
    },
    {
      "cell_type": "code",
      "source": [
        "b= np.array([[1, 2, 3], [4, 5, 6], [7, 8, 9], [10, 11, 12]])"
      ],
      "metadata": {
        "id": "yjT1WmcQWkOo"
      },
      "execution_count": null,
      "outputs": []
    },
    {
      "cell_type": "markdown",
      "source": [
        "Q1. 위 배열을 이용해 [1 4 7 10]을 출력해보세요.\n",
        "\n",
        "Q2. 위 배열을 이용해 11을 출력해보세요.\n",
        "\n",
        "Q3. 위 배열을 이용해 [[ 8  9]\n",
        " [11 12]]을 출력해보세요.\n",
        "\n",
        "Q4. 위 배열을 이용해 [[ 2  3]\n",
        " [ 5  6]\n",
        " [ 8  9]\n",
        " [11 12]]을 출력해보세요.\n",
        "\n",
        " Q5. 위 배열을 이용해 [10 11 12]을 출력해보세요."
      ],
      "metadata": {
        "id": "cWHpJJgjYxAz"
      }
    },
    {
      "cell_type": "code",
      "source": [
        "print(#이 부분을 채워넣으세요.#)\n",
        "print(#이 부분을 채워넣으세요.#)\n",
        "print(#이 부분을 채워넣으세요.#)\n",
        "print(#이 부분을 채워넣으세요.#)\n",
        "print(#이 부분을 채워넣으세요.#)"
      ],
      "metadata": {
        "id": "GO-AverNWkt_"
      },
      "execution_count": null,
      "outputs": []
    },
    {
      "cell_type": "markdown",
      "metadata": {
        "id": "_n5YnbbDVfMQ"
      },
      "source": [
        "## Loading Data from `.csv` file"
      ]
    },
    {
      "cell_type": "markdown",
      "source": [
        "data-01-test-score.csv 파일 사용!"
      ],
      "metadata": {
        "id": "w0I1uGWgYNaT"
      }
    },
    {
      "cell_type": "code",
      "execution_count": null,
      "metadata": {
        "id": "PMlTk-5UVfMR"
      },
      "outputs": [],
      "source": [
        "import numpy as np"
      ]
    },
    {
      "cell_type": "markdown",
      "source": [
        "Drive mount 하는 방법\n",
        "\n",
        "https://vision-ai.tistory.com/entry/%EC%BD%94%EB%9E%A9%EC%97%90%EC%84%9C-%EB%93%9C%EB%9D%BC%EC%9D%B4%EB%B8%8C%EC%9D%98-csv-%ED%8C%8C%EC%9D%BC-%EC%9D%BD%EA%B8%B0\n",
        "\n",
        "을 참고하세요!!"
      ],
      "metadata": {
        "id": "qu7mft0mcctJ"
      }
    },
    {
      "cell_type": "code",
      "source": [
        "from google.colab import drive"
      ],
      "metadata": {
        "id": "N7npiZWMage4"
      },
      "execution_count": null,
      "outputs": []
    },
    {
      "cell_type": "code",
      "source": [
        "drive.mount('/content/drive')"
      ],
      "metadata": {
        "colab": {
          "base_uri": "https://localhost:8080/"
        },
        "id": "d-SM4bxiagiB",
        "outputId": "aa64034b-de5c-4051-abcd-e65b2d4d2532"
      },
      "execution_count": null,
      "outputs": [
        {
          "output_type": "stream",
          "name": "stdout",
          "text": [
            "Mounted at /content/drive\n"
          ]
        }
      ]
    },
    {
      "cell_type": "code",
      "source": [
        "xy= np.loadtxt('#이곳에 파일의 경로를 넣으시면 됩니다.',delimiter=',', dtype=np.float32)"
      ],
      "metadata": {
        "id": "fKvu32T1agmM"
      },
      "execution_count": null,
      "outputs": []
    },
    {
      "cell_type": "code",
      "execution_count": null,
      "metadata": {
        "id": "kIpWRdHFVfMR"
      },
      "outputs": [],
      "source": [
        "x_data = xy[:, 0:-1]\n",
        "y_data = xy[:, [-1]]"
      ]
    },
    {
      "cell_type": "code",
      "execution_count": null,
      "metadata": {
        "colab": {
          "base_uri": "https://localhost:8080/"
        },
        "id": "waMiRzfBVfMS",
        "outputId": "ac25edd7-f2aa-4c5c-9057-6cc78b238073"
      },
      "outputs": [
        {
          "output_type": "stream",
          "name": "stdout",
          "text": [
            "(25, 3)\n",
            "25\n",
            "[[ 73.  80.  75.]\n",
            " [ 93.  88.  93.]\n",
            " [ 89.  91.  90.]\n",
            " [ 96.  98. 100.]\n",
            " [ 73.  66.  70.]]\n"
          ]
        }
      ],
      "source": [
        "print(x_data.shape) # x_data shape\n",
        "print(len(x_data))  # x_data 길이\n",
        "print(x_data[:5])   # 첫 다섯 개"
      ]
    },
    {
      "cell_type": "code",
      "execution_count": null,
      "metadata": {
        "colab": {
          "base_uri": "https://localhost:8080/"
        },
        "id": "sTyEp37tVfMS",
        "outputId": "203b926a-84a4-4b7e-fdd9-33b93f9df480"
      },
      "outputs": [
        {
          "output_type": "stream",
          "name": "stdout",
          "text": [
            "(25, 1)\n",
            "25\n",
            "[[152.]\n",
            " [185.]\n",
            " [180.]\n",
            " [196.]\n",
            " [142.]]\n"
          ]
        }
      ],
      "source": [
        "print(y_data.shape) # y_data shape\n",
        "print(len(y_data))  # y_data 길이\n",
        "print(y_data[:5])   # 첫 다섯 개"
      ]
    },
    {
      "cell_type": "markdown",
      "metadata": {
        "id": "Qe5d71jYVfMS"
      },
      "source": [
        "## Imports"
      ]
    },
    {
      "cell_type": "code",
      "execution_count": null,
      "metadata": {
        "id": "nYZH6vmgVfMT"
      },
      "outputs": [],
      "source": [
        "import torch\n",
        "import torch.nn as nn\n",
        "import torch.nn.functional as F\n",
        "import torch.optim as optim"
      ]
    },
    {
      "cell_type": "code",
      "execution_count": null,
      "metadata": {
        "id": "xDGeDG4HVfMT",
        "outputId": "099de23d-a2cf-4037-9b51-9ec5090f7e61"
      },
      "outputs": [
        {
          "data": {
            "text/plain": [
              "<torch._C.Generator at 0x7f528804e590>"
            ]
          },
          "execution_count": 25,
          "metadata": {},
          "output_type": "execute_result"
        }
      ],
      "source": [
        "# For reproducibility\n",
        "torch.manual_seed(1)"
      ]
    },
    {
      "cell_type": "markdown",
      "metadata": {
        "id": "bkyJpqSYVfMT"
      },
      "source": [
        "## Low-level Implementation"
      ]
    },
    {
      "cell_type": "code",
      "execution_count": null,
      "metadata": {
        "id": "N2axnCOCVfMU",
        "outputId": "c51fd76f-3fbb-4b23-d3fc-0ff3a43eac8a"
      },
      "outputs": [
        {
          "name": "stdout",
          "output_type": "stream",
          "text": [
            "Epoch    0/20 Cost: 26811.960938\n",
            "Epoch    1/20 Cost: 9920.529297\n",
            "Epoch    2/20 Cost: 3675.299072\n",
            "Epoch    3/20 Cost: 1366.261108\n",
            "Epoch    4/20 Cost: 512.542236\n",
            "Epoch    5/20 Cost: 196.896484\n",
            "Epoch    6/20 Cost: 80.190910\n",
            "Epoch    7/20 Cost: 37.038647\n",
            "Epoch    8/20 Cost: 21.081354\n",
            "Epoch    9/20 Cost: 15.178741\n",
            "Epoch   10/20 Cost: 12.993667\n",
            "Epoch   11/20 Cost: 12.183028\n",
            "Epoch   12/20 Cost: 11.880545\n",
            "Epoch   13/20 Cost: 11.765955\n",
            "Epoch   14/20 Cost: 11.720857\n",
            "Epoch   15/20 Cost: 11.701424\n",
            "Epoch   16/20 Cost: 11.691505\n",
            "Epoch   17/20 Cost: 11.685121\n",
            "Epoch   18/20 Cost: 11.680006\n",
            "Epoch   19/20 Cost: 11.675381\n",
            "Epoch   20/20 Cost: 11.670943\n"
          ]
        }
      ],
      "source": [
        "# 데이터\n",
        "x_train = torch.FloatTensor(x_data)\n",
        "y_train = torch.FloatTensor(y_data)\n",
        "# 모델 초기화\n",
        "W = #이 부분을 채워넣으세요.# #가중치 W를 0으로 초기화하고 학습을 통해 값이 변경될 수 있도록 하세요. x_train의 shape을 잘 생각해보세요!!\n",
        "b = #이 부분을 채워넣으세요.# #가중치 W를 0으로 초기화하고 학습을 통해 값이 변경될 수 있도록 하세요.\n",
        "# optimizer 설정\n",
        "optimizer = #이 부분을 채워넣으세요.# #SGD optimizer를 사용하고 learning rate는 1e-5로 적용하세요.\n",
        "\n",
        "nb_epochs = 20\n",
        "for epoch in range(nb_epochs + 1):\n",
        "    \n",
        "    # H(x) 계산\n",
        "    hypothesis = #이 부분을 채워넣으세요.# #x_train의 shape이 달라졌기 때문에 행렬곱셉을 합니다!!\n",
        "\n",
        "    # cost 계산\n",
        "    cost = #이 부분을 채워넣으세요.# #파이토치 코드 상으로 선형 회귀의 비용 함수에 해당되는 평균 제곱 오차를 선언하세요.\n",
        "\n",
        "    # cost로 H(x) 개선\n",
        "    #이 부분을 채워넣으세요.#  # gradient를 0으로 초기화\n",
        "    #이 부분을 채워넣으세요.#  # 비용 함수를 미분하여 gradient 계산\n",
        "    #이 부분을 채워넣으세요.#  # W와 b를 업데이트\n",
        "\n",
        "    # 100번마다 로그 출력\n",
        "    print('Epoch {:4d}/{} Cost: {:.6f}'.format(\n",
        "        epoch, nb_epochs, cost.item()\n",
        "    ))"
      ]
    },
    {
      "cell_type": "markdown",
      "metadata": {
        "id": "430OpqwbVfMU"
      },
      "source": [
        "## High-level Implementation with `nn.Module`"
      ]
    },
    {
      "cell_type": "code",
      "execution_count": null,
      "metadata": {
        "id": "rX6YHFgEVfMV"
      },
      "outputs": [],
      "source": [
        "class MultivariateLinearRegressionModel(nn.Module):\n",
        "    def __init__(self):\n",
        "        super().__init__()\n",
        "        self.linear = nn.Linear(3, 1)\n",
        "\n",
        "    def forward(self, x):\n",
        "        return self.linear(x)"
      ]
    },
    {
      "cell_type": "code",
      "execution_count": null,
      "metadata": {
        "id": "ne_-8xkSVfMW",
        "outputId": "b9f82b58-0db5-4b94-a476-2c37be6b961c"
      },
      "outputs": [
        {
          "name": "stdout",
          "output_type": "stream",
          "text": [
            "Epoch    0/20 Cost: 28388.000000\n",
            "Epoch    1/20 Cost: 10504.286133\n",
            "Epoch    2/20 Cost: 3892.179688\n",
            "Epoch    3/20 Cost: 1447.497314\n",
            "Epoch    4/20 Cost: 543.628357\n",
            "Epoch    5/20 Cost: 209.440048\n",
            "Epoch    6/20 Cost: 85.878799\n",
            "Epoch    7/20 Cost: 40.191814\n",
            "Epoch    8/20 Cost: 23.297268\n",
            "Epoch    9/20 Cost: 17.048059\n",
            "Epoch   10/20 Cost: 14.734761\n",
            "Epoch   11/20 Cost: 13.876624\n",
            "Epoch   12/20 Cost: 13.556563\n",
            "Epoch   13/20 Cost: 13.435411\n",
            "Epoch   14/20 Cost: 13.387821\n",
            "Epoch   15/20 Cost: 13.367404\n",
            "Epoch   16/20 Cost: 13.357059\n",
            "Epoch   17/20 Cost: 13.350419\n",
            "Epoch   18/20 Cost: 13.345175\n",
            "Epoch   19/20 Cost: 13.340427\n",
            "Epoch   20/20 Cost: 13.335882\n"
          ]
        }
      ],
      "source": [
        "# 데이터\n",
        "x_train = torch.FloatTensor(x_data)\n",
        "y_train = torch.FloatTensor(y_data)\n",
        "# 모델 초기화\n",
        "model = #이 부분을 채워넣으세요.# #MultivariateLinearRegressionModel()로 모델을 초기화하세요.\n",
        "# optimizer 설정\n",
        "optimizer = #이 부분을 채워넣으세요.# #SGD optimizer를 사용하고 learning rate는 1e-5로 적용하세요.\n",
        "\n",
        "nb_epochs = 20\n",
        "for epoch in range(nb_epochs+1):\n",
        "    \n",
        "    # H(x) 계산\n",
        "    prediction = #이 부분을 채워넣으세요.# #모델을 생성해서 예측값을 구해보세요.\n",
        "    \n",
        "    # cost 계산\n",
        "    cost = #이 부분을 채워넣으세요.# #PyTorch에서 기본적으로 제공하는 mse 함수를 사용하세요.\n",
        "    \n",
        "    # cost로 H(x) 개선\n",
        "    #이 부분을 채워넣으세요.#  # gradient를 0으로 초기화\n",
        "    #이 부분을 채워넣으세요.#  # 비용 함수를 미분하여 gradient 계산\n",
        "    #이 부분을 채워넣으세요.#  # W와 b를 업데이트\n",
        "    \n",
        "    # 20번마다 로그 출력\n",
        "    print('Epoch {:4d}/{} Cost: {:.6f}'.format(\n",
        "        epoch, nb_epochs, cost.item()\n",
        "    ))"
      ]
    },
    {
      "cell_type": "markdown",
      "metadata": {
        "id": "kREZynd5VfMX"
      },
      "source": [
        "## Dataset and DataLoader"
      ]
    },
    {
      "cell_type": "markdown",
      "metadata": {
        "id": "DW3WBqKuVfMX"
      },
      "source": [
        "<div class=\"alert alert-warning\">\n",
        "    pandas 기초지식이 필요할 것 같다\n",
        "</div>"
      ]
    },
    {
      "cell_type": "markdown",
      "metadata": {
        "id": "Vvux2m4LVfMY"
      },
      "source": [
        "너무 데이터가 크면 `x_data`, `y_data` 를 전부 다 가져오지 말고, 필요한 배치만 가져올 수 밖에 없다."
      ]
    },
    {
      "cell_type": "markdown",
      "metadata": {
        "id": "MijgD64zVfMY"
      },
      "source": [
        "[PyTorch Data Loading and Processing tutorial](https://pytorch.org/tutorials/beginner/data_loading_tutorial.html#iterating-through-the-dataset)"
      ]
    }
  ],
  "metadata": {
    "kernelspec": {
      "display_name": "Python 3",
      "language": "python",
      "name": "python3"
    },
    "language_info": {
      "codemirror_mode": {
        "name": "ipython",
        "version": 3
      },
      "file_extension": ".py",
      "mimetype": "text/x-python",
      "name": "python",
      "nbconvert_exporter": "python",
      "pygments_lexer": "ipython3",
      "version": "3.7.0"
    },
    "colab": {
      "name": "Lab04_2.ipynb",
      "provenance": [],
      "collapsed_sections": []
    }
  },
  "nbformat": 4,
  "nbformat_minor": 0
}